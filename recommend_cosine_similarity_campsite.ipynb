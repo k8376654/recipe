{
 "cells": [
  {
   "cell_type": "code",
   "execution_count": 6,
   "metadata": {},
   "outputs": [
    {
     "name": "stdout",
     "output_type": "stream",
     "text": [
      "     camp_site       tags     score  fb_rating\n",
      "366   李白梵谷露露山丘     步道 螢火蟲  1.000000       0.49\n",
      "267   龍之泉休閒露營區     步道 螢火蟲  1.000000       0.00\n",
      "345       達緄的家     步道 螢火蟲  1.000000       0.00\n",
      "1004      羅馬之戀  水池 步道 螢火蟲  0.839741       0.66\n",
      "863       團圓營地        螢火蟲  0.799213       0.66\n"
     ]
    }
   ],
   "source": [
    "import pandas as pd\n",
    "from sklearn.feature_extraction.text import TfidfVectorizer\n",
    "from sklearn.metrics.pairwise import cosine_similarity\n",
    "import mysql.connector\n",
    "import traceback\n",
    "\n",
    "def recommend_camp_sites(user_contents, num):\n",
    "    ret = None\n",
    "    conn = None\n",
    "    try:\n",
    "        cfg = {\n",
    "            \"host\": \"35.229.201.139\",\n",
    "            \"port\": 3306,\n",
    "            \"database\": \"camp_db\",\n",
    "            \"user\": \"iii\",\n",
    "            \"password\": \"Qwer_0987\"\n",
    "        }\n",
    "        conn = mysql.connector.connect(**cfg)\n",
    "        df = pd.read_sql(\"select * from camp_list\", conn)\n",
    "        train_series = df[\"tags\"] # Series\n",
    "        test_series = pd.Series(user_contents) # Series\n",
    "#         tokenizer = TfidfVectorizer(analyzer=\"word\", ngram_range=(1, 2), min_df=0, stop_words=\"english\")\n",
    "        tokenizer = TfidfVectorizer()\n",
    "        train_tfidf = tokenizer.fit_transform(train_series)\n",
    "        test_tfidf = tokenizer.transform(test_series)\n",
    "        df_cs = pd.DataFrame(cosine_similarity(test_tfidf, train_tfidf), columns=train_series.index)\n",
    "        df_cs[\"ix_test\"] = test_series.index\n",
    "        # pd.melt(): http://shzhangji.com/cnblogs/2017/09/30/pandas-and-tidy-data/\n",
    "        # frame: 需要處理的數據框；\n",
    "        # id_vars: 保持原樣的數據列；\n",
    "        # value_vars: 需要被轉換成變量值的數據列；\n",
    "        # var_name: 轉換後變量的列名；\n",
    "        # value_name: 數值變量的列名。\n",
    "        score = pd.melt(\n",
    "            df_cs,\n",
    "            id_vars = \"ix_test\",\n",
    "            var_name = \"ix_train\",\n",
    "            value_name = \"score\"\n",
    "        )\n",
    "        df[\"score\"] = score[\"score\"]\n",
    "        # score遞增排序並取出指定的筆數\n",
    "#         df = df.sort_values(by=\"score\")[:-(num+1):-1]\n",
    "        df = df.sort_values(by=[\"score\", \"fb_rating\"], ascending=[False, False])\n",
    "        ret = df[[\"camp_site\", \"tags\", \"score\", \"fb_rating\"]].head(num)\n",
    "    except Exception as e:\n",
    "        print(\"Error: {}\".format(e))\n",
    "        traceback.print_exc()\n",
    "    finally:\n",
    "        if conn:\n",
    "            conn.close()\n",
    "    return ret\n",
    "    \n",
    "\n",
    "# recommend_result = recommend_camp_sites(user_contents=\"釣魚 螢火蟲 步道 美景\", num=5)\n",
    "recommend_result = recommend_camp_sites(user_contents=\"螢火蟲 步道\", num=5)\n",
    "print(recommend_result)"
   ]
  },
  {
   "cell_type": "code",
   "execution_count": null,
   "metadata": {},
   "outputs": [],
   "source": []
  }
 ],
 "metadata": {
  "kernelspec": {
   "display_name": "Python 3",
   "language": "python",
   "name": "python3"
  },
  "language_info": {
   "codemirror_mode": {
    "name": "ipython",
    "version": 3
   },
   "file_extension": ".py",
   "mimetype": "text/x-python",
   "name": "python",
   "nbconvert_exporter": "python",
   "pygments_lexer": "ipython3",
   "version": "3.6.0"
  }
 },
 "nbformat": 4,
 "nbformat_minor": 2
}
